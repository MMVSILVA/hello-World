{
 "cells": [
  {
   "cell_type": "markdown",
   "metadata": {},
   "source": [
    "## Exercícios - Listas, Dicionários e Tuplas em Python"
   ]
  },
  {
   "cell_type": "markdown",
   "metadata": {},
   "source": [
    "### Equipe: Nome do Integrante 1; Nome do Integrante 2. "
   ]
  },
  {
   "cell_type": "markdown",
   "metadata": {},
   "source": [
    "<B> Exercício 1 - 1.0 ponto - </B> Elaborar um algoritmo para ler 7 nomes, armazenando-os em uma lista. Deve-se também ler o nome de uma pessoa e pesquisar se ela está presente ou não na lista de nomes. Caso o nome esteja presente, deve-se imprimir as respectivas posições. Caso contrário, deve-se imprimir uma mensagem ao usuário informando que o nome não está presente na lista."
   ]
  },
  {
   "cell_type": "code",
   "execution_count": null,
   "metadata": {},
   "outputs": [],
   "source": []
  },
  {
   "cell_type": "markdown",
   "metadata": {},
   "source": [
    "<B> Exercício 2 - 1.0 ponto - </B> Elaborar um algoritmo que preencha 3 vetores de 10 posições para a produção de uma calculadora. Os 2 primeiros vetores receberão valores numéricos inteiros (operandos) e o terceiro vetor receberá os operadores (+, – , * e /), representando as operações de adição, subtração, multiplicação e divisão, respectivamente. O algoritmo deverá fazer a conta e gravar o resultado em um quarto vetor. Todos os vetores deverão ser impressos. <br/> <br/>\n",
    "OBS: Fazer a proteção de dados no terceiro vetor, isto é, só é possível aceitar os operadores +, – , * e /. Contornar o erro de divisão por zero caso ocorra a operação (/) com o denominador 0, acrescentando àquela posição o valor -999."
   ]
  },
  {
   "cell_type": "code",
   "execution_count": null,
   "metadata": {},
   "outputs": [],
   "source": []
  },
  {
   "cell_type": "markdown",
   "metadata": {},
   "source": [
    "<B> Exercício 3 - 1.2 pontos - </B> Na teoria dos sistemas, define-se o elemento MINMAX de uma matriz como o maior elemento da linha em que se encontra o menor elemento da matriz. Elaborar um algoritmo que preencha uma matriz 4x7 de número inteiros, calcule e mostre seu elemento MINMAX. Supor elementos diferentes na matriz (não é preciso fazer a proteção de dados no código).\n",
    "Exemplo: Na matriz abaixo, o elemento MINMAX é 28.\n",
    "<img src=\"Matriz1.png\" />"
   ]
  },
  {
   "cell_type": "code",
   "execution_count": null,
   "metadata": {},
   "outputs": [],
   "source": []
  },
  {
   "cell_type": "markdown",
   "metadata": {},
   "source": [
    "<B> Exercício 4 - 1.2 pontos - </B> Elaborar um algoritmo que leia uma matriz 10x10 de números inteiros. Somente números entre 0 (inclusive) e 10 (inclusive) devem ser lidos, isto é, deve ser feita a proteção de dados no código. Calcule e imprima:\n",
    "\n",
    "- A soma dos números pares da segunda linha da matriz.\n",
    "- O produto dos números ímpares da terceira coluna da matriz.\n",
    "- A média dos números da diagonal principal.\n",
    "\n",
    "OBS: Para acessar a diagonal principal da matriz faça o índice da linha igual ao índice da coluna. \n"
   ]
  },
  {
   "cell_type": "code",
   "execution_count": null,
   "metadata": {},
   "outputs": [],
   "source": []
  },
  {
   "cell_type": "markdown",
   "metadata": {},
   "source": [
    "<B> Exercício 5 - 1.2 pontos - </B> Elaborar um algoritmo que leia o nome, sexo e idade de 5 pessoas, guardando os dados de cada pessoa em um dicionário e todos os dicionários em uma lista. Deve-se mostrar:\n",
    "\n",
    "- O percentual de homens e mulheres no grupo;\n",
    "- Uma lista com todas os homens. Se não existirem homens no grupo, deve-se apresentar uma mensagem ao usuário;\n",
    "- Uma lista com todas as pessoas com idade acima da média."
   ]
  },
  {
   "cell_type": "code",
   "execution_count": null,
   "metadata": {},
   "outputs": [],
   "source": []
  },
  {
   "cell_type": "markdown",
   "metadata": {},
   "source": [
    "<B> Exercício 6 - 1.0 ponto -  </B> São dadas algumas informações sobre os estados da região Sul e Sudeste, armazenando as informações de cada estado em um dicionário. Cada dicionário também foi armazenado em uma lista. Pede-se:\n",
    "- Apresentar os estados pertencentes a região Sudeste e suas respectivas populações;\n",
    "- Apresentar o percentual da quantidade de cidades dos estados cadastrados, levando-se em consideração a quantidade total de cidades das regiões Sul e Sudeste; \n",
    "- Apresentar o total da população existente nas regiões Sudeste e Sul, informando qual região tem maior população. <br/>\n",
    "OBS: Já foram criados dicionários com as informações dos estados e uma lista dos estados conforme código abaixo. "
   ]
  },
  {
   "cell_type": "code",
   "execution_count": null,
   "metadata": {},
   "outputs": [],
   "source": [
    "br = list()\n",
    "e1 = {'Nome': 'Espírito Santo',\n",
    "      'Capital': 'Vitória',\n",
    "      'Sigla': 'ES',\n",
    "      'Região':'Sudeste',\n",
    "      'Área': 46095,\n",
    "      'Cidades': 78,\n",
    "      'População': 4016356,\n",
    "      'Limites': ['Bahia', 'Minas Gerais', 'Rio de Janeiro']\n",
    "     }\n",
    "\n",
    "e2 = {'Nome': 'Minas Gerais',\n",
    "      'Capital': 'Belo Horizonte',\n",
    "      'Sigla': 'MG',\n",
    "      'Região':'Sudeste',\n",
    "      'Área': 586522,\n",
    "      'Cidades': 853,\n",
    "      'População': 21119536,\n",
    "      'Limites': ['São Paulo', 'Mato Grosso do Sul', 'Goiás', 'Bahia', 'Espírito Santo', 'Rio de Janeiro']   \n",
    "     }\n",
    "\n",
    "e3 = {'Nome': 'Rio de Janeiro',\n",
    "      'Capital': 'Rio de Janeiro',\n",
    "      'Sigla': 'RJ',\n",
    "      'Região':'Sudeste',\n",
    "      'Área': 43780,\n",
    "      'Cidades': 92,\n",
    "      'População': 16718956 ,\n",
    "      'Limites': ['São Paulo', 'Minas Gerais', 'Espírito Santo']   \n",
    "     }\n",
    "\n",
    "e4 = {'Nome': 'São Paulo',\n",
    "      'Capital': 'São Paulo',\n",
    "      'Sigla': 'SP',\n",
    "      'Região':'Sudeste',\n",
    "      'Área': 248222,\n",
    "      'Cidades': 645,\n",
    "      'População': 45538936,\n",
    "      'Limites': ['Paraná', 'Mato Grosso do Sul', 'Minas Gerais', 'Rio de Janeiro']   \n",
    "     }\n",
    "\n",
    "e5 = {'Nome': 'Paraná',\n",
    "      'Capital': 'Curitiba',\n",
    "      'Sigla': 'PR',\n",
    "      'Região':'Sul',\n",
    "      'Área': 199307,\n",
    "      'Cidades': 399,\n",
    "      'População': 11348937,\n",
    "      'Limites': ['Mato Grosso do Sul', 'São Paulo', 'Santa Catarina']   \n",
    "     }\n",
    "\n",
    "e6 = {'Nome': 'Santa Catarina',\n",
    "      'Capital': 'Florianópolis',\n",
    "      'Sigla': 'SC',\n",
    "      'Região':'Sul',\n",
    "      'Área': 95736,\n",
    "      'Cidades': 295,\n",
    "      'População': 6910553,\n",
    "      'Limites': ['Paraná', 'Rio Grande do Sul']   \n",
    "     }\n",
    "\n",
    "e7 = {'Nome': 'Rio Grande do Sul',\n",
    "      'Capital': 'Porto Alegre',\n",
    "      'Sigla': 'RS',\n",
    "      'Região':'Sul',\n",
    "      'Área': 281730,\n",
    "      'Cidades': 497,\n",
    "      'População': 11329605,\n",
    "      'Limites': ['Santa Catarina']   \n",
    "     }\n",
    "\n",
    "br.append(e1)\n",
    "br.append(e2)\n",
    "br.append(e3)\n",
    "br.append(e4)\n",
    "br.append(e5)\n",
    "br.append(e6)\n",
    "br.append(e7)"
   ]
  },
  {
   "cell_type": "markdown",
   "metadata": {},
   "source": [
    "<B> Exercício 7 - 1.2 pontos - </B> Elaborar um algoritmo para gerar aleatoriamente 50 números inteiros entre 1 (inclusive) e 50 (inclusive) armazenando-os em uma lista. Posteriormente deve-se criar e imprimir um dicionário com os seguintes pares <B> chave - valor: {'pares':[ lista de números pares ordenados], 'ímpares':[ lista de números ímpares ordenados]} </B>. <br/>\n",
    "Exemplo com 6 números: <br/>\n",
    "Entrada: [4, 5, 7, 2, 1, 9] <br/>\n",
    "Saída:{'pares': [2, 4],'impares': [1, 5, 7, 9]}"
   ]
  },
  {
   "cell_type": "code",
   "execution_count": null,
   "metadata": {},
   "outputs": [],
   "source": []
  },
  {
   "cell_type": "markdown",
   "metadata": {},
   "source": [
    "<B> Exercício 8 - 1.0 ponto - </B> Elaborar um algoritmo para preencher uma tupla com os 12 meses do ano. Deve-se:\n",
    "\n",
    "\n",
    "- Imprimir os 6 primeiros meses do ano;\n",
    "- Imprimir os 4 últimos meses do ano;\n",
    "- Ler um número pelo teclado (entre 1 e 12) e imprimir o mês lido por extenso. Ex: Na leitura do número 1, por exemplo, deve-se imprimir o mês Janeiro e na leitura do número 12, por exemplo, deve-se imprimir o mês Dezembro.  "
   ]
  },
  {
   "cell_type": "code",
   "execution_count": null,
   "metadata": {},
   "outputs": [],
   "source": []
  },
  {
   "cell_type": "markdown",
   "metadata": {},
   "source": [
    "<B> Exercício 9 - 1.2 pontos - </B> Elaborar um algoritmo para ler 5 palavras armazenando-as em uma tupla. Deve-se:\n",
    "\n",
    "- Imprimir o tamanho de cada palavra.\n",
    "- Imprimir quantas palavras começam com a letra c (maiúscula ou minúscula) e quais são elas. Se nenhuma palavra começar com a letra c, deve-se mandar uma mensagem ao usuário;\n",
    "- Imprimir quantas letras 'a' existem em cada palavra."
   ]
  },
  {
   "cell_type": "code",
   "execution_count": null,
   "metadata": {},
   "outputs": [],
   "source": []
  }
 ],
 "metadata": {
  "kernelspec": {
   "display_name": "Python 3",
   "language": "python",
   "name": "python3"
  },
  "language_info": {
   "codemirror_mode": {
    "name": "ipython",
    "version": 3
   },
   "file_extension": ".py",
   "mimetype": "text/x-python",
   "name": "python",
   "nbconvert_exporter": "python",
   "pygments_lexer": "ipython3",
   "version": "3.7.4"
  }
 },
 "nbformat": 4,
 "nbformat_minor": 2
}
